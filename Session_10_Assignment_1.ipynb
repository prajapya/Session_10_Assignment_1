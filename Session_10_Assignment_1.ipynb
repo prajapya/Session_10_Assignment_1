{
 "cells": [
  {
   "cell_type": "markdown",
   "metadata": {},
   "source": [
    "- Task 1\n",
    "- Q 1. Blood glucose levels for obese patients have a mean of 100 with a standard deviation of 15. A\n",
    "researcher thinks that a diet high in raw cornstarch will have a positive effect on blood glucose\n",
    "levels. A sample of 36 patients who have tried the raw cornstarch diet have a mean glucose\n",
    "level of 108. Test the hypothesis that the raw cornstarch had an effect or not."
   ]
  },
  {
   "cell_type": "code",
   "execution_count": 1,
   "metadata": {},
   "outputs": [],
   "source": [
    "import scipy.stats as stats\n",
    "import matplotlib.pyplot as plt\n",
    "import math as math\n",
    "import numpy as np"
   ]
  },
  {
   "cell_type": "code",
   "execution_count": 2,
   "metadata": {},
   "outputs": [
    {
     "data": {
      "text/plain": [
       "(array([3., 1., 5., 3., 7., 8., 4., 2., 2., 1.]),\n",
       " array([102.42978699, 103.60850215, 104.7872173 , 105.96593246,\n",
       "        107.14464762, 108.32336278, 109.50207794, 110.6807931 ,\n",
       "        111.85950825, 113.03822341, 114.21693857]),\n",
       " <a list of 10 Patch objects>)"
      ]
     },
     "execution_count": 2,
     "metadata": {},
     "output_type": "execute_result"
    },
    {
     "data": {
      "image/png": "[encoded data removed]",
      "text/plain": [
       "<Figure size 432x288 with 1 Axes>"
      ]
     },
     "metadata": {
      "needs_background": "light"
     },
     "output_type": "display_data"
    }
   ],
   "source": [
    "sampleValues = stats.norm.rvs(loc=108, scale=15/6, size=36)\n",
    "plt.hist(sampleValues)"
   ]
  },
  {
   "cell_type": "code",
   "execution_count": 4,
   "metadata": {},
   "outputs": [
    {
     "name": "stdout",
     "output_type": "stream",
     "text": [
      "With 95% significance level, we can say that sample mean is not    different than population mean with pvalue = 1.0870854918274433e-18\n"
     ]
    }
   ],
   "source": [
    "_, pvalue = stats.ttest_1samp(sampleValues, 100)\n",
    "\n",
    "if(pvalue < 0.025): \n",
    "    print('With 95% significance level, we can say that sample mean is not\\\n",
    "    different than population mean with pvalue = {}'.format(pvalue))"
   ]
  },
  {
   "cell_type": "markdown",
   "metadata": {},
   "source": [
    "- Q 2. In one state, 52% of the voters are Republicans, and 48% are Democrats. In a second state, 47% of the voters are Republicans, and 53% are Democrats. Suppose a simple random sample of 100 voters are surveyed from each state.\n",
    "- What is the probability that the survey will show a greater percentage of Republican voters in the second state than in the first state?"
   ]
  },
  {
   "cell_type": "code",
   "execution_count": 5,
   "metadata": {},
   "outputs": [],
   "source": [
    "State1 = stats.norm.rvs(loc=52, scale=1, size=100, random_state=12345)\n",
    "State2 = stats.norm.rvs(loc=47, scale=1, size=100, random_state=12345)"
   ]
  },
  {
   "cell_type": "code",
   "execution_count": 6,
   "metadata": {},
   "outputs": [
    {
     "data": {
      "text/plain": [
       "(array([ 5.,  6., 15., 13., 27., 17., 11.,  4.,  1.,  1.]),\n",
       " array([44.62976835, 45.1916859 , 45.75360346, 46.31552102, 46.87743858,\n",
       "        47.43935613, 48.00127369, 48.56319125, 49.1251088 , 49.68702636,\n",
       "        50.24894392]),\n",
       " <a list of 10 Patch objects>)"
      ]
     },
     "execution_count": 6,
     "metadata": {},
     "output_type": "execute_result"
    },
    {
     "data": {
      "image/png": "[encoded data removed]",
      "text/plain": [
       "<Figure size 432x288 with 1 Axes>"
      ]
     },
     "metadata": {
      "needs_background": "light"
     },
     "output_type": "display_data"
    }
   ],
   "source": [
    "plt.hist(State1)\n",
    "plt.hist(State2)"
   ]
  },
  {
   "cell_type": "code",
   "execution_count": 7,
   "metadata": {},
   "outputs": [],
   "source": [
    "_,pvalue = stats.ttest_ind(State1, State2, equal_var=False)"
   ]
  },
  {
   "cell_type": "code",
   "execution_count": 8,
   "metadata": {},
   "outputs": [
    {
     "name": "stdout",
     "output_type": "stream",
     "text": [
      "With 95% significance level, we can conclude that two sample means are equal with pvalue = 1.4369621006594201e-84\n",
      "So probability of getting higher number of Republic in State2 than in State1 is 0\n"
     ]
    }
   ],
   "source": [
    "if(pvalue < 0.025): \n",
    "    print('With 95% significance level, we can conclude that two sample means are equal with pvalue = {}'.format(pvalue))\n",
    "    print('So probability of getting higher number of Republic in State2 than in State1 is 0')"
   ]
  },
  {
   "cell_type": "markdown",
   "metadata": {},
   "source": [
    "- Q 3. You take the SAT and score 1100. The mean score for the SAT is 1026 and the standard deviation is 209. How well did you score on the test compared to the average test taker?"
   ]
  },
  {
   "cell_type": "code",
   "execution_count": 9,
   "metadata": {},
   "outputs": [],
   "source": [
    "popScores = stats.norm.rvs(loc=1026, scale=209, size=100, random_state=12345)"
   ]
  },
  {
   "cell_type": "code",
   "execution_count": 10,
   "metadata": {},
   "outputs": [],
   "source": [
    "_, pvalue = stats.ttest_1samp(popScores, 1100)"
   ]
  },
  {
   "cell_type": "code",
   "execution_count": 11,
   "metadata": {},
   "outputs": [
    {
     "name": "stdout",
     "output_type": "stream",
     "text": [
      "With 95% significance level, I scored like an average student with pvalue = 0.00267644145112024\n"
     ]
    }
   ],
   "source": [
    "if(pvalue < 0.025):\n",
    "    print('With 95% significance level, I scored like an average student with pvalue = {}'.format(pvalue))\n",
    "else:\n",
    "    print('With 95% significance level, I scored better than average student with pvalue = {}'.format(pvalue))"
   ]
  },
  {
   "cell_type": "markdown",
   "metadata": {},
   "source": [
    "- Task 2\n",
    "- Is gender independent of education level? A random sample of 395 people were surveyed and each person was asked to report the highest education level they obtained. The data that resulted from the survey is summarized in the following table: \n",
    "- High School Bachelors Masters Ph.d. Total \n",
    "- Female 60 54 46 41 201 \n",
    "- Male 40 44 53 57 194 \n",
    "- Total 100 98 99 98 395\n",
    "- Question: Are gender and education level dependent at 5% level of significance? In other words, given the data collected above, is there a relationship between the gender of an individual and the level of education that they have obtained?"
   ]
  },
  {
   "cell_type": "code",
   "execution_count": 12,
   "metadata": {},
   "outputs": [],
   "source": [
    "Female = [60, 54, 46, 41]\n",
    "Male = [40, 44, 53, 57]\n",
    "Total = [100, 98, 99, 98]"
   ]
  },
  {
   "cell_type": "code",
   "execution_count": 14,
   "metadata": {},
   "outputs": [
    {
     "data": {
      "text/plain": [
       "array([0.6       , 0.55102041, 0.46464646, 0.41836735])"
      ]
     },
     "execution_count": 14,
     "metadata": {},
     "output_type": "execute_result"
    }
   ],
   "source": [
    "np.divide(Female,Total)"
   ]
  },
  {
   "cell_type": "code",
   "execution_count": 15,
   "metadata": {},
   "outputs": [],
   "source": [
    "_, pvalue = stats.ttest_rel(np.divide(Female,Total), np.divide(Male,Total))"
   ]
  },
  {
   "cell_type": "code",
   "execution_count": 17,
   "metadata": {},
   "outputs": [
    {
     "name": "stdout",
     "output_type": "stream",
     "text": [
      "There is a relation between gender and qualification, with 95% confidence interval with     pvalue = 0.8490908322951305\n"
     ]
    }
   ],
   "source": [
    "if(pvalue < 0.05):\n",
    "    print('There is no relation between gender and qualification, with 95% confidence interval with \\\n",
    "    pvalue = {}'.format(pvalue))\n",
    "else:\n",
    "    print('There is a relation between gender and qualification, with 95% confidence interval with \\\n",
    "    pvalue = {}'.format(pvalue))"
   ]
  },
  {
   "cell_type": "markdown",
   "metadata": {},
   "source": [
    "- Q 2. Using the following data, perform a oneway analysis of variance using α=.05. Write up the results in APA format.\n",
    "- [Group1: 51, 45, 33, 45, 67] \n",
    "- [Group2: 23, 43, 23, 43, 45] \n",
    "- [Group3: 56, 76, 74, 87, 56]"
   ]
  },
  {
   "cell_type": "code",
   "execution_count": 18,
   "metadata": {},
   "outputs": [],
   "source": [
    "Group1 = [51, 45, 33, 45, 67] \n",
    "Group2 = [23, 43, 23, 43, 45] \n",
    "Group3 = [56, 76, 74, 87, 56]"
   ]
  },
  {
   "cell_type": "code",
   "execution_count": 20,
   "metadata": {},
   "outputs": [
    {
     "data": {
      "text/plain": [
       "11.070682002478437"
      ]
     },
     "execution_count": 20,
     "metadata": {},
     "output_type": "execute_result"
    }
   ],
   "source": [
    "np.array(Group1).std()"
   ]
  },
  {
   "cell_type": "code",
   "execution_count": 21,
   "metadata": {},
   "outputs": [
    {
     "data": {
      "text/plain": [
       "10.150862032359617"
      ]
     },
     "execution_count": 21,
     "metadata": {},
     "output_type": "execute_result"
    }
   ],
   "source": [
    "np.array(Group2).std()"
   ]
  },
  {
   "cell_type": "code",
   "execution_count": 22,
   "metadata": {},
   "outputs": [
    {
     "data": {
      "text/plain": [
       "12.106196760337244"
      ]
     },
     "execution_count": 22,
     "metadata": {},
     "output_type": "execute_result"
    }
   ],
   "source": [
    "np.array(Group3).std()"
   ]
  },
  {
   "cell_type": "code",
   "execution_count": 23,
   "metadata": {},
   "outputs": [],
   "source": [
    "_, pvalue = stats.f_oneway(Group1, Group2, Group3)"
   ]
  },
  {
   "cell_type": "code",
   "execution_count": 24,
   "metadata": {},
   "outputs": [
    {
     "name": "stdout",
     "output_type": "stream",
     "text": [
      "With 95% confidene interval, variances of all groups are same with pvalue = 0.0030597541434430556\n"
     ]
    }
   ],
   "source": [
    "if(pvalue < 0.025):\n",
    "    print('With 95% confidene interval, variances of all groups are same with pvalue = {}'.format(pvalue))\n",
    "else:\n",
    "    print('With 95% confidene interval, variances of all groups are different with pvalue = {}'.format(pvalue))"
   ]
  },
  {
   "cell_type": "markdown",
   "metadata": {},
   "source": [
    "- Q 3. Calculate F Test for given 10, 20, 30, 40, 50 and 5,10,15, 20, 25. \n",
    "- For 10, 20, 30, 40, 50:"
   ]
  },
  {
   "cell_type": "code",
   "execution_count": 25,
   "metadata": {},
   "outputs": [],
   "source": [
    "grp1 = [10, 20, 30, 40, 50 ]\n",
    "grp2 = [5,10,15, 20, 25]"
   ]
  },
  {
   "cell_type": "markdown",
   "metadata": {},
   "source": [
    "- This question looks to be imcomplete here. Need to check with Acadgild."
   ]
  },
  {
   "cell_type": "code",
   "execution_count": null,
   "metadata": {},
   "outputs": [],
   "source": []
  }
 ],
 "metadata": {
  "kernelspec": {
   "display_name": "Python 3",
   "language": "python",
   "name": "python3"
  },
  "language_info": {
   "codemirror_mode": {
    "name": "ipython",
    "version": 3
   },
   "file_extension": ".py",
   "mimetype": "text/x-python",
   "name": "python",
   "nbconvert_exporter": "python",
   "pygments_lexer": "ipython3",
   "version": "3.7.1"
  }
 },
 "nbformat": 4,
 "nbformat_minor": 2
}
